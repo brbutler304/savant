{
 "cells": [
  {
   "cell_type": "code",
   "execution_count": null,
   "metadata": {},
   "outputs": [],
   "source": [
    "import pandas as pd\n",
    "\n",
    "ev22 = pd.read_csv('EVLAcsv/EV - 2022.csv')\n",
    "\n",
    "ev22.info()\n",
    "evlist = list(ev22['Exit Velocity (MPH)'])"
   ]
  },
  {
   "cell_type": "code",
   "execution_count": 15,
   "metadata": {},
   "outputs": [
    {
     "name": "stdout",
     "output_type": "stream",
     "text": [
      "<class 'pandas.core.frame.DataFrame'>\n",
      "Int64Index: 9760 entries, 0 to 1\n",
      "Data columns (total 18 columns):\n",
      " #   Column           Non-Null Count  Dtype \n",
      "---  ------           --------------  ----- \n",
      " 0   year             9760 non-null   int64 \n",
      " 1   n_hip            9760 non-null   object\n",
      " 2   n_hits           9760 non-null   object\n",
      " 3   hits_per_hip     9760 non-null   object\n",
      " 4   woba             9760 non-null   object\n",
      " 5   n_hits_1b        9760 non-null   object\n",
      " 6   n_hits_2b        9760 non-null   object\n",
      " 7   n_hits_3b        9760 non-null   object\n",
      " 8   n_hits_hr        9760 non-null   object\n",
      " 9   hits_1b_per_hip  9760 non-null   object\n",
      " 10  hits_2b_per_hip  9760 non-null   object\n",
      " 11  hits_3b_per_hip  9760 non-null   object\n",
      " 12  hits_hr_per_hip  9760 non-null   object\n",
      " 13  avg_distance     9759 non-null   object\n",
      " 14  value            9760 non-null   object\n",
      " 15  rowId            9760 non-null   object\n",
      " 16  url              9760 non-null   object\n",
      " 17  exit_velo        9760 non-null   int64 \n",
      "dtypes: int64(2), object(16)\n",
      "memory usage: 1.4+ MB\n"
     ]
    }
   ],
   "source": [
    "import requests\n",
    "import pandas as pd\n",
    "import time\n",
    "\n",
    "df22 = pd.DataFrame()\n",
    "\n",
    "for ev in evlist:\n",
    "\n",
    "    url = f\"https://baseballsavant.mlb.com/statcast_hit_probability?value={ev}&type=ev&year=2022\"\n",
    "\n",
    "    response = requests.request(\"GET\", url)\n",
    "\n",
    "    df = pd.DataFrame(response.json())\n",
    "    df['exit_velo'] = ev\n",
    "    df['year'] = 2022\n",
    "    \n",
    "    df22 = pd.concat([df22, df])\n",
    "    time.sleep(1)\n",
    "\n",
    "df22.info()"
   ]
  },
  {
   "cell_type": "code",
   "execution_count": 16,
   "metadata": {},
   "outputs": [],
   "source": [
    "df22.to_csv('EVLAcsv/evla22.csv')"
   ]
  }
 ],
 "metadata": {
  "kernelspec": {
   "display_name": "mlbproj",
   "language": "python",
   "name": "python3"
  },
  "language_info": {
   "codemirror_mode": {
    "name": "ipython",
    "version": 3
   },
   "file_extension": ".py",
   "mimetype": "text/x-python",
   "name": "python",
   "nbconvert_exporter": "python",
   "pygments_lexer": "ipython3",
   "version": "3.9.6 (default, Oct 18 2022, 12:41:40) \n[Clang 14.0.0 (clang-1400.0.29.202)]"
  },
  "orig_nbformat": 4,
  "vscode": {
   "interpreter": {
    "hash": "4422ed100a73f68db0d2039cd678e49074234d7385614b188dd955933afbf5a9"
   }
  }
 },
 "nbformat": 4,
 "nbformat_minor": 2
}

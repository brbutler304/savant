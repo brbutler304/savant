{
 "cells": [
  {
   "cell_type": "code",
   "execution_count": 5,
   "metadata": {},
   "outputs": [
    {
     "name": "stdout",
     "output_type": "stream",
     "text": [
      "<class 'pandas.core.frame.DataFrame'>\n",
      "RangeIndex: 110 entries, 0 to 109\n",
      "Data columns (total 14 columns):\n",
      " #   Column                 Non-Null Count  Dtype  \n",
      "---  ------                 --------------  -----  \n",
      " 0   Exit Velocity (MPH)    110 non-null    int64  \n",
      " 1   Hits                   110 non-null    object \n",
      " 2   BBE                    110 non-null    object \n",
      " 3   Average\n",
      "Distance (ft)  110 non-null    int64  \n",
      " 4   AVG                    110 non-null    float64\n",
      " 5   wOBA                   110 non-null    float64\n",
      " 6   1B                     110 non-null    int64  \n",
      " 7   2B                     110 non-null    int64  \n",
      " 8   3B                     110 non-null    int64  \n",
      " 9   HR                     110 non-null    int64  \n",
      " 10  1B %                   110 non-null    float64\n",
      " 11  2B %                   110 non-null    float64\n",
      " 12  3B %                   110 non-null    float64\n",
      " 13  HR %                   110 non-null    float64\n",
      "dtypes: float64(6), int64(6), object(2)\n",
      "memory usage: 12.2+ KB\n"
     ]
    }
   ],
   "source": [
    "import pandas as pd\n",
    "\n",
    "ev22 = pd.read_csv('EVLAcsv/EV - 2022.csv')\n",
    "\n",
    "ev22.info()\n",
    "evlist = list(ev22['Exit Velocity (MPH)'])"
   ]
  },
  {
   "cell_type": "code",
   "execution_count": null,
   "metadata": {},
   "outputs": [],
   "source": [
    "import requests\n",
    "import pandas as pd\n",
    "import time\n",
    "\n",
    "df22 = pd.DataFrame()\n",
    "years = [2015, 2016, 2017, 2018, 2019, 2020, 2021, 2022]\n",
    "\n",
    "for year in years:\n",
    "    print(f'Fetching data for {year}...')\n",
    "\n",
    "    ev22 = pd.read_csv(f'EVLAcsv/EV - {year}.csv')\n",
    "\n",
    "    evlist = list(ev22['Exit Velocity (MPH)'])\n",
    "\n",
    "    for ev in evlist:\n",
    "\n",
    "        url = f\"https://baseballsavant.mlb.com/statcast_hit_probability?value={ev}&type=ev&year={year}\"\n",
    "\n",
    "        response = requests.request(\"GET\", url)\n",
    "\n",
    "        df = pd.DataFrame(response.json())\n",
    "        df['exit_velo'] = ev\n",
    "        df['year'] = year\n",
    "        \n",
    "        df22 = pd.concat([df22, df])\n",
    "        time.sleep(1)\n",
    "\n",
    "    df22.info()\n"
   ]
  },
  {
   "cell_type": "code",
   "execution_count": 3,
   "metadata": {},
   "outputs": [],
   "source": [
    "\n",
    "df22 = df22.drop(['rowId','url'], axis=1)"
   ]
  },
  {
   "cell_type": "code",
   "execution_count": 4,
   "metadata": {},
   "outputs": [],
   "source": [
    "df22.to_csv('EVLAcsv/evla_all.csv', index=False)"
   ]
  }
 ],
 "metadata": {
  "kernelspec": {
   "display_name": "mlbproj",
   "language": "python",
   "name": "python3"
  },
  "language_info": {
   "codemirror_mode": {
    "name": "ipython",
    "version": 3
   },
   "file_extension": ".py",
   "mimetype": "text/x-python",
   "name": "python",
   "nbconvert_exporter": "python",
   "pygments_lexer": "ipython3",
   "version": "3.9.6"
  },
  "orig_nbformat": 4,
  "vscode": {
   "interpreter": {
    "hash": "4422ed100a73f68db0d2039cd678e49074234d7385614b188dd955933afbf5a9"
   }
  }
 },
 "nbformat": 4,
 "nbformat_minor": 2
}

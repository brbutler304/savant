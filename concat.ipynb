{
 "cells": [
  {
   "cell_type": "code",
   "execution_count": 2,
   "metadata": {},
   "outputs": [],
   "source": [
    "import os\n",
    "import glob\n",
    "import pandas as pd\n",
    "    \n",
    "os.chdir('./EVLAcsv')\n",
    "    \n",
    "extension = 'csv'\n",
    "all_EV = glob.glob('E*.{}'.format(extension))\n",
    "all_LA = glob.glob('L*.{}'.format(extension))\n",
    "\n",
    "#df_EV15 = pd.read_csv(\"EV - 2015.csv\")\n",
    "#print(df_EV15)\n"
   ]
  },
  {
   "cell_type": "code",
   "execution_count": 3,
   "metadata": {},
   "outputs": [
    {
     "name": "stdout",
     "output_type": "stream",
     "text": [
      "     Exit Velocity (MPH) Hits BBE  Average\\nDistance (ft)  AVG  wOBA 1B  2B  \\\n",
      "0                    122    1   1                      26  1.0  0.90  1   0   \n",
      "1                    121    1   1                     382  1.0  2.00  0   0   \n",
      "2                    120    1   1                     116  1.0  0.90  1   0   \n",
      "3                    119    5   5                     348  1.0  1.70  0   2   \n",
      "4                    118    7  10                     268  0.7  1.12  2   2   \n",
      "..                   ...  ...  ..                     ...  ...   ... ..  ..   \n",
      "843                   16    0   2                      27  0.0  0.45  0   0   \n",
      "844                   14    0   1                      19  0.0  0.00  0   0   \n",
      "845                   13    0   2                      22  0.0  0.00  0   0   \n",
      "846                   12    0   1                      14  0.0  0.00  0   0   \n",
      "847                    8    0   1                      10  0.0  0.00  0   0   \n",
      "\n",
      "     3B  HR   1B %  2B %  3B %   HR %  \n",
      "0     0   0  100.0   0.0   0.0    0.0  \n",
      "1     0   1    0.0   0.0   0.0  100.0  \n",
      "2     0   0  100.0   0.0   0.0    0.0  \n",
      "3     0   3    0.0  40.0   0.0   60.0  \n",
      "4     0   3   20.0  20.0   0.0   30.0  \n",
      "..   ..  ..    ...   ...   ...    ...  \n",
      "843   0   0    0.0   0.0   0.0    0.0  \n",
      "844   0   0    0.0   0.0   0.0    0.0  \n",
      "845   0   0    0.0   0.0   0.0    0.0  \n",
      "846   0   0    0.0   0.0   0.0    0.0  \n",
      "847   0   0    0.0   0.0   0.0    0.0  \n",
      "\n",
      "[848 rows x 14 columns]\n"
     ]
    }
   ],
   "source": [
    "\n",
    "# Combine all files in the list and export to .csv\n",
    "    \n",
    "df_concat_EV = pd.concat([pd.read_csv(f) for f in all_EV ], ignore_index=True)\n",
    "print(df_concat_EV)\n",
    "\n",
    "df_concat_EV.to_csv('all_EV.csv', index=False)"
   ]
  },
  {
   "cell_type": "code",
   "execution_count": 4,
   "metadata": {},
   "outputs": [
    {
     "name": "stdout",
     "output_type": "stream",
     "text": [
      "      Launch Angle (Deg) Hits BBE  Average\\nDistance (ft)    AVG   wOBA 1B  \\\n",
      "0                     90    0   1                      35  0.000  0.000  0   \n",
      "1                     89    0   2                      40  0.000  0.000  0   \n",
      "2                     88    0   6                      40  0.000  0.000  0   \n",
      "3                     87    0  12                      40  0.000  0.000  0   \n",
      "4                     86    0  16                      33  0.000  0.000  0   \n",
      "...                  ...  ...  ..                     ...    ...    ... ..   \n",
      "1410                 -81    1   7                       0  0.143  0.129  1   \n",
      "1411                 -82    0   3                       0  0.000  0.000  0   \n",
      "1412                 -83    0   1                       0  0.000  0.000  0   \n",
      "1413                 -84    0   1                       0  0.000  0.000  0   \n",
      "1414                 -85    1   2                       0  0.500  0.450  1   \n",
      "\n",
      "      2B  3B  HR  1B %  2B %  3B %  HR %  \n",
      "0      0   0   0   0.0   0.0   0.0   0.0  \n",
      "1      0   0   0   0.0   0.0   0.0   0.0  \n",
      "2      0   0   0   0.0   0.0   0.0   0.0  \n",
      "3      0   0   0   0.0   0.0   0.0   0.0  \n",
      "4      0   0   0   0.0   0.0   0.0   0.0  \n",
      "...   ..  ..  ..   ...   ...   ...   ...  \n",
      "1410   0   0   0  14.3   0.0   0.0   0.0  \n",
      "1411   0   0   0   0.0   0.0   0.0   0.0  \n",
      "1412   0   0   0   0.0   0.0   0.0   0.0  \n",
      "1413   0   0   0   0.0   0.0   0.0   0.0  \n",
      "1414   0   0   0  50.0   0.0   0.0   0.0  \n",
      "\n",
      "[1415 rows x 14 columns]\n"
     ]
    }
   ],
   "source": [
    "\n",
    "df_concat_LA = pd.concat([pd.read_csv(f) for f in all_LA ], ignore_index=True)\n",
    "print(df_concat_LA)"
   ]
  }
 ],
 "metadata": {
  "kernelspec": {
   "display_name": "mlbproj",
   "language": "python",
   "name": "python3"
  },
  "language_info": {
   "codemirror_mode": {
    "name": "ipython",
    "version": 3
   },
   "file_extension": ".py",
   "mimetype": "text/x-python",
   "name": "python",
   "nbconvert_exporter": "python",
   "pygments_lexer": "ipython3",
   "version": "3.9.6"
  },
  "orig_nbformat": 4,
  "vscode": {
   "interpreter": {
    "hash": "4422ed100a73f68db0d2039cd678e49074234d7385614b188dd955933afbf5a9"
   }
  }
 },
 "nbformat": 4,
 "nbformat_minor": 2
}
